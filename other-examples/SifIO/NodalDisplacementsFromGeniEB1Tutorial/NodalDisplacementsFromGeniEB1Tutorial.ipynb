{
 "cells": [
  {
   "cell_type": "markdown",
   "metadata": {},
   "source": [
    "# Example for displaying nodal displacements from GeniE B1 Tutorial"
   ]
  },
  {
   "cell_type": "markdown",
   "metadata": {},
   "source": [
    "## Introduction\n",
    "This example demonstrates how SifIO can be used through Python to print the nodal dispacements for a given node in a table. A Sesam Manager example model is provided where we run Sestra to create a SIN and a SIF file.\n",
    "Firstly, you need to run Sestra analysis as usual and get the result file, then you can use SifIO Python package to get the data in the result file for further post-processing in Python.  The procedure is explained below."
   ]
  },
  {
   "cell_type": "markdown",
   "metadata": {},
   "source": [
    "### Model\n",
    "Model from GeniE B1 tutorial will be used. Below is the nodal displacements of the node 13 in LC 1 when viewed with Xtract:\n",
    "<div>\n",
    "<img src=\"_imgs/model.png\" width=\"900\"/>\n",
    "</div>\n"
   ]
  },
  {
   "cell_type": "markdown",
   "metadata": {},
   "source": [
    "## Prerequisities "
   ]
  },
  {
   "cell_type": "markdown",
   "metadata": {},
   "source": [
    "### Install SifIO\n",
    "If you haven't already, install the SifIO Python package by running the code below"
   ]
  },
  {
   "cell_type": "code",
   "execution_count": null,
   "metadata": {},
   "outputs": [],
   "source": [
    "%pip install -r sifio-requirements.txt"
   ]
  },
  {
   "cell_type": "markdown",
   "metadata": {},
   "source": [
    "## Workflow\n",
    "Firstly, Sestra is run to create the needed Sesam result files.\n",
    "\n",
    "Note: The relevant SIN and SIF files are already provided, so it's not necessary to run the Sesam Manager example below to run the SifIO example further down.\n",
    "\n"
   ]
  },
  {
   "cell_type": "markdown",
   "metadata": {},
   "source": [
    "### Optional: Run analysis with Sesam Manager\n",
    "A Sesam Manager example is provided. The workflow sketched below will run Sestra twice to create a SIN file and SIF file (During debugging it is better to use SIF format as it is in ASCII format and therefore human-readable)\n",
    "<div>\n",
    "<img src=\"_imgs/sesamManager.png\" width=\"300\"/>\n",
    "</div>\n",
    "Sesam Manager is run from the code block below. (Use the play button to run it)\n"
   ]
  },
  {
   "cell_type": "code",
   "execution_count": null,
   "metadata": {},
   "outputs": [],
   "source": [
    "import subprocess\n",
    "import os\n",
    "import shutil\n",
    "\n",
    "# Make sure the path to Sesam Manager is correct\n",
    "sesam_manager_path = r\"C:\\Program Files (x86)\\DNV\\Sesam Manager V6.7-00\\Bin\\DNVS.Sesam.Manager.Win.exe\"\n",
    "\n",
    "# This path must match Workspace folder setting in Sesam Manager\n",
    "dnv_working_directory = \"C:\\\\DNV\\\\Workspaces\\\\\"\n",
    "\n",
    "# Set to True if you want to run Sesam Manager in batch mode, or False if you want to run interactively\n",
    "batch = True\n",
    "\n",
    "manager_example_name = \"SM_SestraRun\"\n",
    "\n",
    "cwd = os.getcwd()\n",
    "try:\n",
    "    os.chdir(\"SesamManagerModel\")\n",
    "    command = [sesam_manager_path,  manager_example_name, \"/com=SM_SestraRun.js\",  \"/new\"]\n",
    "    if batch:\n",
    "        command.append(\"/batch\")\n",
    "    result = subprocess.run(command)\n",
    "    if result.returncode != 0:\n",
    "        raise Exception(\"Sesam Manager failed with return code: \" + str(result.returncode))\n",
    "    repository_folder = os.path.join(dnv_working_directory, manager_example_name,\"_repository\")\n",
    "except Exception as e:\n",
    "    print(\"An error has occurred, please check any log files for more information\")\n",
    "    raise\n",
    "finally:\n",
    "    os.chdir(cwd)\n",
    "\n",
    "print(\"Sesam Workspace repository path: \" + repository_folder)\n",
    "print(\"Files produced from Sesam Manager workflow:\" + str(os.listdir(repository_folder)))\n",
    "\n",
    "## Copy the SIN file created by Sestra above, to the current directory\n",
    "copied=shutil.copy(repository_folder + \"\\\\R1.SIN\", \".\")\n",
    "print(\"Copied:  \" + copied)\n",
    "## Copy the SIF file created by Sestra above, to the current directory\n",
    "copied=shutil.copy(repository_folder + \"\\\\R1.SIF\", \".\")\n",
    "print(\"Copied:  \" + copied)"
   ]
  },
  {
   "cell_type": "markdown",
   "metadata": {},
   "source": [
    "R1.SIN and R1.SIF files should appear in the current directory."
   ]
  },
  {
   "cell_type": "markdown",
   "metadata": {},
   "source": [
    "### SifIO\n",
    "Run the following code block to get the displacement data from the R1.SIN file. You can also read the R1.SIF file."
   ]
  },
  {
   "cell_type": "code",
   "execution_count": null,
   "metadata": {},
   "outputs": [],
   "source": [
    "import dnv.net.runtime\n",
    "from dnv.sesam.sifapi.core import ISifData\n",
    "from dnv.sesam.sifapi.io import SesamDataFactory\n",
    "\n",
    "\"\"\"Reads nodal displacement data (RVNODDIS) of a result case (LC 1) and FE node (node 13) in the R1.SIN file\"\"\"\n",
    "with SesamDataFactory.CreateReader(\".\", \"R1.SIN\") as adapter:\n",
    "    adapter.CreateModel()\n",
    "\n",
    "    ires = 1  # result case reference number\n",
    "    iinod = 13  # internal node number\n",
    "\n",
    "    data = adapter.ReadExt('RVNODDIS', [ires, iinod])\n",
    "    print(f'Length of the data: {len(data)}')\n",
    "    print(f'Data type: {type(data)}')\n",
    "\n",
    "    # Convert System.Double[] to a Python list\n",
    "    data_list = [element for element in data]\n",
    "    print(data_list)  # print all the data in the RVNODDIS\n",
    "\n",
    "    # Put displacement x, y, z, rx, ry, rz into separate variables and print\n",
    "    disp_x = data_list[6]\n",
    "    disp_y = data_list[7]\n",
    "    disp_z = data_list[8]\n",
    "    disp_rx = data_list[9]\n",
    "    disp_ry = data_list[10]\n",
    "    disp_rz = data_list[11]\n",
    "\n",
    "    print(f'\\nNodal displacement for result case {ires}, node {iinod}:')\n",
    "    print(f'X  = {disp_x:.2E} m')\n",
    "    print(f'Y  = {disp_y:.2E} m')\n",
    "    print(f'Z  = {disp_z:.2E} m')\n",
    "    print(f'RX = {disp_rx:.2E} rad')\n",
    "    print(f'RY = {disp_ry:.2E} rad')\n",
    "    print(f'RZ = {disp_rz:.2E} rad')"
   ]
  },
  {
   "cell_type": "markdown",
   "metadata": {},
   "source": [
    "You should get the same displacement values shown in Xtract."
   ]
  },
  {
   "cell_type": "markdown",
   "metadata": {},
   "source": [
    "#### Regarding data ID and index\n",
    "To get the correct RVNODDIS data, you must refer to Sesam results interface format documentation and see which IDs are needed to be referred (https://sesam.dnv.com/download/windows64/sesam_results_interface_format.pdf):\n",
    "<div>\n",
    "<img src=\"_imgs/rvnoddis.png\" width=\"700\"/>\n",
    "</div>\n",
    "\n",
    "For the entries contained in RVNODDIS data, refer to the index 1 to 11 below. The number of the data entries varies between data types so you have to look at the Sesam results interface format documentation and the SIF file for debugging.\n",
    "<div>\n",
    "<img src=\"_imgs/r1sif.png\" width=\"700\"/>\n",
    "</div>\n",
    "\n",
    "#### Documentation\n",
    "Please see the following documentation for a complete overview of the SIF data specification:\n",
    "* Sesam Input Interface Format: https://sesam.dnv.com/download/windows64/sesam_input_interface_format.pdf\n",
    "* Sesam Results Interface Format: https://sesam.dnv.com/download/windows64/sesam_results_interface_format.pdf\n"
   ]
  },
  {
   "cell_type": "markdown",
   "metadata": {},
   "source": [
    "#### Looping through IDs\n",
    "To loop through all the result cases and all the nodes, you can either (1) loop manually through \"IRES\" and \"IINOD\" in Python, or (2) use ReadAll() method."
   ]
  }
 ],
 "metadata": {
  "kernelspec": {
   "display_name": "Python 3",
   "language": "python",
   "name": "python3"
  },
  "language_info": {
   "codemirror_mode": {
    "name": "ipython",
    "version": 3
   },
   "file_extension": ".py",
   "mimetype": "text/x-python",
   "name": "python",
   "nbconvert_exporter": "python",
   "pygments_lexer": "ipython3",
   "version": "3.12.4"
  }
 },
 "nbformat": 4,
 "nbformat_minor": 2
}
