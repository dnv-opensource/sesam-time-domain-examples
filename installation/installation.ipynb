{
 "cells": [
  {
   "cell_type": "markdown",
   "metadata": {},
   "source": [
    "# Python Tools Installation  <a id='installation'></a>\n",
    "This notebook aids in the installation of the necessary DNV Python packages. For the installation to succeed you need to either select Run All or run each section below in the order from top to bottom\n",
    "\n",
    "The following DNV packages will be installed in this notebook:\n",
    "* [dnv-oneworkflow](https://pypi.org/project/dnv-oneworkflow/)\n",
    "* [dnv-sesam-commands](https://pypi.org/project/dnv-sesam-commands/)\n",
    "* [dnv-onecompute](https://pypi.org/project/dnv-onecompute/) \n",
    "* [dnv-runtime](https://pypi.org/project/dnv-net-runtime/)\n",
    "\n",
    "If anything goes wrong, please repeat all the steps from the start, step by step.\n",
    "Please note that before running any code cell in this notebook, VSCode will prompt you to install the ipykernel package. Please accept it by clicking yes."
   ]
  },
  {
   "cell_type": "markdown",
   "metadata": {},
   "source": [
    "## A note about virtual Python environments\n",
    "This notebook installs all the necessary Python packages in the *global* Python environment. We recommend our users to rather use a virtual Python environment, but that is, however, outside the scope of our tutorials.\n",
    "\n",
    "Some popular tools to manage virtual environments on Windows are:\n",
    "* [Python venv](https://docs.python.org/3/library/venv.html)\n",
    "* [Conda](https://docs.conda.io/projects/conda/en/stable/)\n",
    "* [Pipenv](https://pipenv.pypa.io/en/latest/)\n",
    "* [Poetry](https://python-poetry.org/)\n",
    "\n",
    "This notebook can easily be expanded/altered to use a virtual environment.\n",
    "\n",
    "\n"
   ]
  },
  {
   "cell_type": "markdown",
   "metadata": {},
   "source": [
    "## Update pip installation tool"
   ]
  },
  {
   "cell_type": "code",
   "execution_count": null,
   "metadata": {},
   "outputs": [],
   "source": [
    "!python.exe -m pip install --upgrade pip"
   ]
  },
  {
   "cell_type": "markdown",
   "metadata": {},
   "source": [
    "## Define Helper Functions \n",
    "Functions to improve output from the installation steps in [Install necessary Python packages](#installationPython).\n",
    "All packages will be installed in the user's global environment. If you prefer to install into a virtual environment, you may need to remove the --user option.\n"
   ]
  },
  {
   "cell_type": "code",
   "execution_count": null,
   "metadata": {},
   "outputs": [],
   "source": [
    "more_options = \"--user\" #set more_options to \"\" if you want to install packages into a virtual environment "
   ]
  },
  {
   "cell_type": "code",
   "execution_count": null,
   "metadata": {},
   "outputs": [],
   "source": [
    "#helper functions\n",
    "#https://pip.pypa.io/en/latest/user_guide/  # using-pip-from-your-program\n",
    "import subprocess, sys\n",
    " \n",
    "def uninstall_packages_from_requirements_file(file, print_output: bool = True):\n",
    "    try:\n",
    "        output=subprocess.check_output([sys.executable, '-m', 'pip', 'uninstall','-y','-r',file ],stderr=subprocess.STDOUT,text=True)\n",
    "    except subprocess.CalledProcessError as exc:\n",
    "        print(\"Status : FAIL\", exc.returncode, exc.output)\n",
    "    else:\n",
    "        print(\"Output: \\n{}\\n\".format(output))\n",
    "     \n",
    "def install_packages_from_requirements_file(file, print_output: bool = True, more_options = more_options):\n",
    "    try:\n",
    "        options = [sys.executable, '-m', 'pip', 'install','-r',file ]\n",
    "        if more_options != \"\":\n",
    "            options.append(more_options)\n",
    "        output=subprocess.check_output(options,stderr=subprocess.STDOUT,text=True)\n",
    "    except subprocess.CalledProcessError as exc:\n",
    "        print(\"Status : FAIL\", exc.returncode, exc.output)\n",
    "    else:\n",
    "        print(\"Output: \\n{}\\n\".format(output))\n",
    "def install_packages(packages, print_output: bool = True ):\n",
    "    for package in packages:\n",
    "        try:\n",
    "            output=subprocess.check_output([sys.executable, '-m', 'pip', 'install',package ],stderr=subprocess.STDOUT,text=True)\n",
    "        except subprocess.CalledProcessError as exc:\n",
    "            print(\"Status : FAIL\", exc.returncode, exc.output)\n",
    "        else:\n",
    "            print(\"Output: \\n{}\\n\".format(output))\n",
    "\n",
    " \n"
   ]
  },
  {
   "cell_type": "markdown",
   "metadata": {},
   "source": [
    "## Install Required Python Packages <a id='installationPython'></a>\n",
    "Uninstall any existing packages related to OneWorkflow and reinstall them to minimize possible dependency issues.\n",
    "\n"
   ]
  },
  {
   "cell_type": "markdown",
   "metadata": {},
   "source": [
    "#### Uninstalling Sesam Workflows"
   ]
  },
  {
   "cell_type": "code",
   "execution_count": null,
   "metadata": {},
   "outputs": [],
   "source": [
    "uninstall_packages_from_requirements_file('dnv-sesam-workflows-requirements.txt', print_output = True)"
   ]
  },
  {
   "cell_type": "markdown",
   "metadata": {},
   "source": [
    "#### Uninstalling all packages needed by Sesam Workflows\n"
   ]
  },
  {
   "cell_type": "code",
   "execution_count": null,
   "metadata": {},
   "outputs": [],
   "source": [
    "uninstall_packages_from_requirements_file('dnv-dependency-requirements.txt', print_output = True)"
   ]
  },
  {
   "cell_type": "markdown",
   "metadata": {},
   "source": [
    "#### Installing Sesam Workflows"
   ]
  },
  {
   "cell_type": "code",
   "execution_count": null,
   "metadata": {},
   "outputs": [],
   "source": [
    "install_packages_from_requirements_file('dnv-sesam-workflows-requirements.txt', print_output = True)"
   ]
  },
  {
   "cell_type": "markdown",
   "metadata": {},
   "source": [
    "#### Installing basic requirements"
   ]
  },
  {
   "cell_type": "code",
   "execution_count": null,
   "metadata": {},
   "outputs": [],
   "source": [
    "install_packages_from_requirements_file('basic-requirements.txt', print_output = True)"
   ]
  },
  {
   "cell_type": "markdown",
   "metadata": {},
   "source": [
    "### Test installation of packages\n",
    "Before you can verify the installation you need to restart the notebook, and possibly also VSCode, for the modules to become available: \n",
    "\n",
    "\n",
    "\n",
    "![](restartkernel.png)\n",
    "\n",
    "You may also need to select your default Python installation as the active Python kernel, in the top right corner:\n",
    "![](selectkernel.png) ![](selectedkernel.png)"
   ]
  },
  {
   "cell_type": "code",
   "execution_count": null,
   "metadata": {},
   "outputs": [],
   "source": [
    "from dnv.oneworkflow import *\n",
    "from dnv.sesam import *\n",
    "from dnv.onecompute import *\n",
    "from dnv.net.runtime import *\n",
    "import sys\n",
    "print(sys.version)\n"
   ]
  },
  {
   "cell_type": "markdown",
   "metadata": {},
   "source": [
    "## Install worker for local execution"
   ]
  },
  {
   "cell_type": "code",
   "execution_count": null,
   "metadata": {},
   "outputs": [],
   "source": [
    "from dnv.oneworkflow.utils import *\n",
    "from dnv.oneworkflow.repository import *\n",
    "await install_workflow_runtime()\n"
   ]
  },
  {
   "cell_type": "markdown",
   "metadata": {},
   "source": [
    "## Troubleshooting\n",
    "If you experience errors when running this notebook, run the commands below from the command line from the (`installation`) folder.\n",
    "First uninstall the different requirements by: \n",
    "\n",
    " ```python -m pip uninstall -y -r basic-requirements.txt\n",
    " python -m pip uninstall -y -r dnv-requirements.txt\n",
    " python -m pip uninstall -y -r sifio-requirements.txt\n",
    " python -m pip uninstall -y -r onecompute-requirements.txt\n",
    "```\n",
    "then install them again by:\n",
    "\n",
    "```python -m pip install -r basic-requirements.txt --user\n",
    "python -m pip install -r dnv-requirements.txt\n",
    "python -m pip install -r sifio-requirements.txt\n",
    "python -m pip install -r onecompute-requirements.txt\n",
    "```"
   ]
  }
 ],
 "metadata": {
  "kernelspec": {
   "display_name": "Python 3",
   "language": "python",
   "name": "python3"
  },
  "language_info": {
   "codemirror_mode": {
    "name": "ipython",
    "version": 3
   },
   "file_extension": ".py",
   "mimetype": "text/x-python",
   "name": "python",
   "nbconvert_exporter": "python",
   "pygments_lexer": "ipython3",
   "version": "3.12.4"
  },
  "orig_nbformat": 4
 },
 "nbformat": 4,
 "nbformat_minor": 2
}
